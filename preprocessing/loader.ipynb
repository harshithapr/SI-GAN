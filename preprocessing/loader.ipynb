{
 "cells": [
  {
   "cell_type": "code",
   "execution_count": 1,
   "metadata": {
    "collapsed": true
   },
   "outputs": [],
   "source": [
    "import os\n",
    "import re\n",
    "import string\n",
    "import tensorlayer as tl\n",
    "from utils import *\n",
    "from util import *\n",
    "import glob\n",
    "import pydub"
   ]
  },
  {
   "cell_type": "code",
   "execution_count": 2,
   "metadata": {
    "scrolled": true
   },
   "outputs": [
    {
     "name": "stderr",
     "output_type": "stream",
     "text": [
      "/home/harshipr/anaconda3/lib/python3.6/site-packages/PIL/TiffImagePlugin.py:692: UserWarning: Possibly corrupt EXIF data.  Expecting to read 4718592 bytes but only got 0. Skipping tag 0\n",
      "  \"Skipping tag %s\" % (size, len(data), tag))\n",
      "/home/harshipr/anaconda3/lib/python3.6/site-packages/PIL/TiffImagePlugin.py:692: UserWarning: Possibly corrupt EXIF data.  Expecting to read 655924 bytes but only got 65. Skipping tag 0\n",
      "  \"Skipping tag %s\" % (size, len(data), tag))\n",
      "/home/harshipr/anaconda3/lib/python3.6/site-packages/PIL/TiffImagePlugin.py:709: UserWarning: Corrupt EXIF data.  Expecting to read 12 bytes but only got 8. \n",
      "  warnings.warn(str(msg))\n"
     ]
    }
   ],
   "source": [
    "cwd = os.getcwd()\n",
    "data_dir = os.path.join(cwd,'ESC-50/')\n",
    "\n",
    "category_sub_dir = load_folder_list(data_dir)\n",
    "\n",
    "labels_cat_map = {}\n",
    "sound_samples_cat = []\n",
    "image_samples_cat = []\n",
    "labels = []\n",
    "for i, sub_dir in enumerate(category_sub_dir):\n",
    "    audio_folder = os.path.join(sub_dir,\"Audio/\")\n",
    "    img_folder = os.path.join(sub_dir,\"Images/\")\n",
    "    audios=glob.glob(audio_folder+\"./*.*\")\n",
    "    images = glob.glob(img_folder+\"./*.*\")\n",
    "\n",
    "\n",
    "    sound_samples = []\n",
    "    for idx,audio_path in enumerate(audios):\n",
    "        #sound_sample,_ = load_audio(audio_path)\n",
    "        data = pydub.AudioSegment.silent(duration=5000)\n",
    "        data = data.overlay(pydub.AudioSegment.from_file(audios[idx])[0:5000])\n",
    "        raw = (np.fromstring(data._data, dtype=\"int16\") + 0.5) / (0x7FFF + 0.5)\n",
    "        sound_samples.append(preprocess(raw, local_config).reshape(-1,1,1))\n",
    "    sound_samples_cat.append(sound_samples)\n",
    "    \n",
    "    labels.append(np.repeat(i+1,len(audios)))\n",
    "    labels_cat_map[i+1] = sub_dir.split('/')[-1]\n",
    "    \n",
    "\n",
    "    image_samples=[]\n",
    "    for i, f in enumerate(images):\n",
    "        img_raw = scipy.misc.imread(f)\n",
    "        img = tl.prepro.imresize(img_raw, size=[64, 64])\n",
    "        img = img.astype(np.float32)\n",
    "        image_samples.append(img)\n",
    "    image_samples_cat.append(image_samples)\n",
    "\n",
    "# sound_samples_np = np.array(sound_samples_cat) \n",
    "# image_samples_np = np.array(image_samples_cat)\n",
    "# labels_np = np.array(labels)\n",
    "\n",
    "# np.save(\"esc_10_img.npy\", image_samples_np)\n",
    "# np.save(\"esc_10_sound.npy\",sound_samples_np)\n",
    "# np.save(\"esc_10_labels.npy\",labels_np)\n",
    "# np.save(\"esc_10_label_keys.npy\",labels_cat_map)"
   ]
  },
  {
   "cell_type": "code",
   "execution_count": 16,
   "metadata": {
    "collapsed": true
   },
   "outputs": [],
   "source": [
    "np.save(\"shruthi_y.npy\", labels_np.reshape(-1,1))\n",
    "np.save(\"shruthi_x.npy\", sound_samples_np.reshape(-1,220500,1,1))"
   ]
  },
  {
   "cell_type": "code",
   "execution_count": 5,
   "metadata": {
    "collapsed": true
   },
   "outputs": [],
   "source": [
    "labels_list = []\n",
    "for i in range(len(labels)):\n",
    "    labels_list.append(labels[i].tolist())"
   ]
  },
  {
   "cell_type": "code",
   "execution_count": 6,
   "metadata": {
    "collapsed": true
   },
   "outputs": [],
   "source": [
    "y_data = []\n",
    "x_data = []\n",
    "for i, sound_cat in enumerate(sound_samples_cat):\n",
    "    for j,sound in enumerate(sound_cat):\n",
    "        if(sound.shape[0]==220500):\n",
    "            y_data.append(labels_list[i][j])\n",
    "            x_data.append(sound)"
   ]
  },
  {
   "cell_type": "code",
   "execution_count": 9,
   "metadata": {
    "collapsed": true
   },
   "outputs": [],
   "source": [
    "np.save(\"esc_1760_y.npy\", np.array(y_data))\n",
    "np.save(\"esc_1760_x.npy\", np.array(x_data))"
   ]
  },
  {
   "cell_type": "code",
   "execution_count": 10,
   "metadata": {
    "collapsed": true
   },
   "outputs": [],
   "source": [
    "y_data = []\n",
    "x_data = []\n",
    "img_data = []\n",
    "for i, sound_cat in enumerate(sound_samples_cat):\n",
    "    for j,sound in enumerate(sound_cat):\n",
    "        if(sound.shape[0]==220500):\n",
    "            try:\n",
    "                img_data.append(image_samples_cat[i][j])\n",
    "            except:\n",
    "                continue\n",
    "            y_data.append(labels_list[i][j])\n",
    "            x_data.append(sound)\n",
    "            "
   ]
  },
  {
   "cell_type": "code",
   "execution_count": 13,
   "metadata": {
    "collapsed": true
   },
   "outputs": [],
   "source": [
    "np.save(\"esc_1759_y.npy\", np.array(y_data))\n",
    "np.save(\"esc_1759_sound.npy\", np.array(x_data))\n",
    "np.save(\"esc_1759_image.npy\", np.array(img_data))"
   ]
  },
  {
   "cell_type": "code",
   "execution_count": 3,
   "metadata": {},
   "outputs": [
    {
     "ename": "NameError",
     "evalue": "name 'image_samples_cat' is not defined",
     "output_type": "error",
     "traceback": [
      "\u001b[0;31m---------------------------------------------------------------------------\u001b[0m",
      "\u001b[0;31mNameError\u001b[0m                                 Traceback (most recent call last)",
      "\u001b[0;32m<ipython-input-3-48cf22422f91>\u001b[0m in \u001b[0;36m<module>\u001b[0;34m()\u001b[0m\n\u001b[0;32m----> 1\u001b[0;31m \u001b[0mnp\u001b[0m\u001b[0;34m.\u001b[0m\u001b[0marray\u001b[0m\u001b[0;34m(\u001b[0m\u001b[0mimage_samples_cat\u001b[0m\u001b[0;34m[\u001b[0m\u001b[0mi\u001b[0m\u001b[0;34m]\u001b[0m\u001b[0;34m)\u001b[0m\u001b[0;34m.\u001b[0m\u001b[0mshape\u001b[0m\u001b[0;34m\u001b[0m\u001b[0m\n\u001b[0m",
      "\u001b[0;31mNameError\u001b[0m: name 'image_samples_cat' is not defined"
     ]
    }
   ],
   "source": [
    "y_data = []\n",
    "x_data = []\n",
    "img_data = []\n",
    "for i, sound_cat in enumerate(sound_samples_cat):\n",
    "    for j,sound in enumerate(sound_cat):\n",
    "        if(sound.shape[0]==220500):\n",
    "            try:\n",
    "                img_data.append(image_samples_cat[i][j])\n",
    "            except:\n",
    "                continue\n",
    "            y_data.append(labels_list[i][j])\n",
    "            x_data.append(sound)"
   ]
  },
  {
   "cell_type": "code",
   "execution_count": 4,
   "metadata": {
    "collapsed": true
   },
   "outputs": [],
   "source": [
    "img_dc_data = []\n",
    "x_dc_data = []\n",
    "for i, sound_cat in enumerate(sound_samples_cat):\n",
    "    if(sound_cat[0].shape[0]!=220500):\n",
    "        continue; \n",
    "    img_dc_data.append(np.array(image_samples_cat[i]))\n",
    "    x_dc_data.append(np.array(sound_cat))"
   ]
  },
  {
   "cell_type": "code",
   "execution_count": 13,
   "metadata": {
    "collapsed": true
   },
   "outputs": [],
   "source": [
    "# np.save(\"esc_44_sound1.npy\", np.array(x_dc_data[:10]))\n",
    "# np.save(\"esc_44_sound2.npy\", np.array(x_dc_data[10:20]))\n",
    "# np.save(\"esc_44_sound3.npy\", np.array(x_dc_data[20:30]))\n",
    "np.save(\"esc_44_sound5.npy\", np.array(x_dc_data[40:44]))"
   ]
  },
  {
   "cell_type": "code",
   "execution_count": 5,
   "metadata": {
    "collapsed": true
   },
   "outputs": [],
   "source": [
    "np.save(\"esc_44_image.npy\", np.array(img_dc_data))"
   ]
  },
  {
   "cell_type": "code",
   "execution_count": 6,
   "metadata": {
    "collapsed": true
   },
   "outputs": [],
   "source": [
    "np.save(\"esc_44_sound5.npy\", np.array(x_dc_data))"
   ]
  },
  {
   "cell_type": "code",
   "execution_count": 3,
   "metadata": {
    "collapsed": true
   },
   "outputs": [],
   "source": [
    "image_samples_cat[27].append(image_samples_cat[27][38])"
   ]
  },
  {
   "cell_type": "code",
   "execution_count": 9,
   "metadata": {},
   "outputs": [],
   "source": [
    "del(sound_samples_cat)"
   ]
  }
 ],
 "metadata": {
  "kernelspec": {
   "display_name": "Python 3",
   "language": "python",
   "name": "python3"
  },
  "language_info": {
   "codemirror_mode": {
    "name": "ipython",
    "version": 3
   },
   "file_extension": ".py",
   "mimetype": "text/x-python",
   "name": "python",
   "nbconvert_exporter": "python",
   "pygments_lexer": "ipython3",
   "version": "3.6.1"
  }
 },
 "nbformat": 4,
 "nbformat_minor": 2
}
